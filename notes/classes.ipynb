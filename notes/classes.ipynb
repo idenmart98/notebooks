{
 "metadata": {
  "language_info": {
   "codemirror_mode": {
    "name": "ipython",
    "version": 3
   },
   "file_extension": ".py",
   "mimetype": "text/x-python",
   "name": "python",
   "nbconvert_exporter": "python",
   "pygments_lexer": "ipython3",
   "version": "3.7.7-final"
  },
  "orig_nbformat": 2,
  "kernelspec": {
   "name": "python_defaultSpec_1597932780528",
   "display_name": "Python 3.7.7 64-bit ('venv': venv)"
  }
 },
 "nbformat": 4,
 "nbformat_minor": 2,
 "cells": [
  {
   "cell_type": "code",
   "execution_count": 13,
   "metadata": {
    "tags": []
   },
   "outputs": [
    {
     "output_type": "execute_result",
     "data": {
      "text/plain": "'Меня зовут Эрбол ,Мне 22 лет'"
     },
     "metadata": {},
     "execution_count": 13
    }
   ],
   "source": [
    "class Person:\n",
    "    def __init__(self,name,age):\n",
    "        self.name = name\n",
    "        self.age = age\n",
    "    def get_person(self):\n",
    "        return f\"Меня зовут {self.name} ,Мне {self.age} лет\"\n",
    "\n",
    "\n",
    "class Employer(Person):\n",
    "    def __init__(self,name, age, experience ):\n",
    "        super().__init__(name, age)\n",
    "        self.experience = experience\n",
    "    \n",
    "    def get_employer(self):\n",
    "        return f\"Работник {self.name} ,Возраст {self.age} лет, Опыт {self.experience}\"\n",
    "    \n",
    "    def experience_value(self,new_ex):\n",
    "        self.experience = new_ex\n",
    "\n",
    "\n",
    "\n",
    "\n",
    "person1 = Person(\"Эрбол\",22)\n",
    "person1.get_person()\n",
    "\n"
   ]
  },
  {
   "cell_type": "code",
   "execution_count": null,
   "metadata": {},
   "outputs": [],
   "source": [
    "good = 25"
   ]
  }
 ]
}