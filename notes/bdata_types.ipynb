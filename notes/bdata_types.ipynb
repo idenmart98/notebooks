{
 "metadata": {
  "language_info": {
   "codemirror_mode": {
    "name": "ipython",
    "version": 3
   },
   "file_extension": ".py",
   "mimetype": "text/x-python",
   "name": "python",
   "nbconvert_exporter": "python",
   "pygments_lexer": "ipython3",
   "version": 3
  },
  "orig_nbformat": 2,
  "kernelspec": {
   "name": "python_defaultSpec_1596530423538",
   "display_name": "Python 3.7.7 64-bit ('venv': venv)"
  }
 },
 "nbformat": 4,
 "nbformat_minor": 2,
 "cells": [
  {
   "cell_type": "code",
   "execution_count": 112,
   "metadata": {
    "tags": []
   },
   "outputs": [
    {
     "output_type": "stream",
     "name": "stdout",
     "text": "[1, 2, 3]\n"
    },
    {
     "output_type": "execute_result",
     "data": {
      "text/plain": "[4, 3, 2, 1]"
     },
     "metadata": {},
     "execution_count": 112
    }
   ],
   "source": [
    "# Списки \n",
    "a = [1,2,3,4] # создаем список\n",
    "b = list([1,2,3,4])# cоздаем список\n",
    "с = list()#пустой список\n",
    "d =  []#пустой список\n",
    "#  индексы\n",
    "a[0]# получить по индексу элемент списка\n",
    "# cрезы(slice)\n",
    "a[:3]# получить с нулевого до третьего индекса\n",
    "a[::-1]#  перевернуть список\n"
   ]
  },
  {
   "cell_type": "code",
   "execution_count": null,
   "metadata": {},
   "outputs": [],
   "source": []
  }
 ]
}