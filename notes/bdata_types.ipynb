{
 "metadata": {
  "language_info": {
   "codemirror_mode": {
    "name": "ipython",
    "version": 3
   },
   "file_extension": ".py",
   "mimetype": "text/x-python",
   "name": "python",
   "nbconvert_exporter": "python",
   "pygments_lexer": "ipython3",
   "version": 3
  },
  "orig_nbformat": 2,
  "kernelspec": {
   "name": "python_defaultSpec_1596530423538",
   "display_name": "Python 3.7.7 64-bit ('venv': venv)"
  }
 },
 "nbformat": 4,
 "nbformat_minor": 2,
 "cells": [
  {
   "cell_type": "code",
   "execution_count": 113,
   "metadata": {
    "tags": []
   },
   "outputs": [
    {
     "output_type": "execute_result",
     "data": {
      "text/plain": "[4, 3, 2, 1]"
     },
     "metadata": {},
     "execution_count": 113
    }
   ],
   "source": [
    "# Списки \n",
    "a = [1,2,3,4] # создаем список\n",
    "b = list([1,2,3,4])# cоздаем список\n",
    "с = list()#пустой список\n",
    "d =  []#пустой список\n",
    "#  индексы\n",
    "a[0]# получить по индексу элемент списка\n",
    "# cрезы(slice)\n",
    "a[:3]# получить с нулевого до третьего индекса\n",
    "a[::-1]#  перевернуть список"
   ]
  },
  {
   "cell_type": "code",
   "execution_count": 114,
   "metadata": {},
   "outputs": [],
   "source": [
    "# Числа (float, int)\n",
    "a = 0# число int\n",
    "b = 1.3 # число float\n",
    "a = a + 1 # добавили к нулю 1\n",
    "a+=1 # тоже самое просто по красивее "
   ]
  },
  {
   "cell_type": "code",
   "execution_count": null,
   "metadata": {},
   "outputs": [],
   "source": []
  }
 ]
}