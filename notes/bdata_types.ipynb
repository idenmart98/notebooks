{
 "metadata": {
  "language_info": {
   "codemirror_mode": {
    "name": "ipython",
    "version": 3
   },
   "file_extension": ".py",
   "mimetype": "text/x-python",
   "name": "python",
   "nbconvert_exporter": "python",
   "pygments_lexer": "ipython3",
   "version": "3.7.7-final"
  },
  "orig_nbformat": 2,
  "kernelspec": {
   "name": "python_defaultSpec_1598106036462",
   "display_name": "Python 3.7.7 64-bit ('venv': venv)"
  }
 },
 "nbformat": 4,
 "nbformat_minor": 2,
 "cells": [
  {
   "cell_type": "code",
   "execution_count": 113,
   "metadata": {
    "tags": []
   },
   "outputs": [
    {
     "output_type": "execute_result",
     "data": {
      "text/plain": "[4, 3, 2, 1]"
     },
     "metadata": {},
     "execution_count": 113
    }
   ],
   "source": [
    "# Списки \n",
    "a = [1,2,3,4] # создаем список\n",
    "b = list([1,2,3,4])# cоздаем список\n",
    "с = list()#пустой список\n",
    "d =  []#пустой список\n",
    "#  индексы\n",
    "a[0]# получить по индексу элемент списка\n",
    "# cрезы(slice)\n",
    "a[:3]# получить с нулевого до третьего индекса\n",
    "a[::-1]#  перевернуть список"
   ]
  },
  {
   "cell_type": "code",
   "execution_count": 114,
   "metadata": {},
   "outputs": [],
   "source": [
    "# Числа (float, int)\n",
    "a = 0# число int\n",
    "b = 1.3 # число float\n",
    "a = a + 1 # добавили к нулю 1\n",
    "a+=1 # тоже самое просто по красивее "
   ]
  },
  {
   "cell_type": "code",
   "execution_count": 1,
   "metadata": {
    "tags": []
   },
   "outputs": [
    {
     "output_type": "stream",
     "name": "stdout",
     "text": "intersection: {4, 5}\nintersection(&): {4, 5}\nunion: {1, 2, 3, 4, 5, 6, 7, 8}\nunion(|): {1, 2, 3, 4, 5, 6, 7, 8}\ndifference {1, 2, 3}\ndifference(-) {1, 2, 3}\nsymmetric difference {1, 2, 3, 6, 7, 8}\nsymmetric difference {1, 2, 3, 6, 7, 8}\nsymmetric difference(^) {1, 2, 3, 6, 7, 8}\n"
    }
   ],
   "source": [
    "#sets\n",
    "set1 = {1, 2, 3, 4, 5}\n",
    "set2 = {4, 5, 6, 7, 8}\n",
    "\n",
    "print(\"intersection:\", set1.intersection(set2)) #intersection: {4, 5}\n",
    "print(\"intersection(&):\", set1 & set2) #intersection(&): {4, 5}\n",
    "\n",
    "print(\"union:\", set1.union(set2)) #union: {1, 2, 3, 4, 5, 6, 7, 8}\n",
    "print(\"union(|):\", set1 | set2) #union(|): {1, 2, 3, 4, 5, 6, 7, 8}\n",
    "\n",
    "print(\"difference\", set1.difference(set2)) #difference {1, 2, 3}\n",
    "print(\"difference(-)\", set1 - set2) #difference(-) {1, 2, 3}\n",
    "\n",
    "print(\"symmetric difference\", (set1 | set2) - (set1 & set2)) #symmetric difference {1, 2, 3, 6, 7, 8}\n",
    "print(\"symmetric difference\", set1.symmetric_difference(set2))  #symmetric difference {1, 2, 3, 6, 7, 8}\n",
    "print(\"symmetric difference(^)\", set1 ^ set2) #symmetric difference(^) {1, 2, 3, 6, 7, 8}"
   ]
  },
  {
   "cell_type": "code",
   "execution_count": 5,
   "metadata": {
    "tags": []
   },
   "outputs": [
    {
     "output_type": "execute_result",
     "data": {
      "text/plain": "dict_values([12, 50, 14, 13])"
     },
     "metadata": {},
     "execution_count": 5
    }
   ],
   "source": [
    "#Словари (dicts)\n",
    "a={'a':12,'b':50,'c':14,'d':13}\n",
    "a.values()"
   ]
  },
  {
   "cell_type": "code",
   "execution_count": 20,
   "metadata": {
    "tags": []
   },
   "outputs": [
    {
     "output_type": "error",
     "ename": "KeyError",
     "evalue": "'name'",
     "traceback": [
      "\u001b[0;31m---------------------------------------------------------------------------\u001b[0m",
      "\u001b[0;31mKeyError\u001b[0m                                  Traceback (most recent call last)",
      "\u001b[0;32m<ipython-input-20-5ba706a069a6>\u001b[0m in \u001b[0;36m<module>\u001b[0;34m\u001b[0m\n\u001b[1;32m      8\u001b[0m \u001b[0mstandart\u001b[0m \u001b[0;34m=\u001b[0m \u001b[0;34m\"Меня зовут{name}, Мне {age} лет\"\u001b[0m\u001b[0;34m\u001b[0m\u001b[0;34m\u001b[0m\u001b[0m\n\u001b[1;32m      9\u001b[0m \u001b[0;34m\u001b[0m\u001b[0m\n\u001b[0;32m---> 10\u001b[0;31m \u001b[0mprint\u001b[0m\u001b[0;34m(\u001b[0m\u001b[0mstandart\u001b[0m\u001b[0;34m.\u001b[0m\u001b[0mformat\u001b[0m\u001b[0;34m(\u001b[0m\u001b[0mname\u001b[0m\u001b[0;34m,\u001b[0m\u001b[0mage\u001b[0m\u001b[0;34m)\u001b[0m\u001b[0;34m)\u001b[0m\u001b[0;34m\u001b[0m\u001b[0;34m\u001b[0m\u001b[0m\n\u001b[0m\u001b[1;32m     11\u001b[0m \u001b[0mfirst_name\u001b[0m \u001b[0;34m=\u001b[0m \u001b[0;34m\"Jonh\"\u001b[0m\u001b[0;34m\u001b[0m\u001b[0;34m\u001b[0m\u001b[0m\n\u001b[1;32m     12\u001b[0m \u001b[0mlast_name\u001b[0m \u001b[0;34m=\u001b[0m \u001b[0;34m\"Smith\"\u001b[0m\u001b[0;34m\u001b[0m\u001b[0;34m\u001b[0m\u001b[0m\n",
      "\u001b[0;31mKeyError\u001b[0m: 'name'"
     ]
    }
   ],
   "source": [
    "a = \"Привет мир\"\n",
    "b = \"\"\"Привет\"\"\"\n",
    "s =\"Рамис\"\n",
    "d = [\"Рамис\",17]\n",
    "name = \"Рамис\"\n",
    "age=17\n",
    "old= \"Привет %s \" % s\n",
    "standart = \"Меня зовут{name}, Мне {age} лет\"\n",
    "\n",
    "print(standart.format(name, age))\n",
    "first_name = \"Jonh\"\n",
    "last_name = \"Smith\"\n",
    "print(f\"{first_name} {last_name}\")\n"
   ]
  },
  {
   "cell_type": "code",
   "execution_count": null,
   "metadata": {},
   "outputs": [],
   "source": []
  }
 ]
}