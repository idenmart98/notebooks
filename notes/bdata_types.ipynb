{
 "metadata": {
  "language_info": {
   "codemirror_mode": {
    "name": "ipython",
    "version": 3
   },
   "file_extension": ".py",
   "mimetype": "text/x-python",
   "name": "python",
   "nbconvert_exporter": "python",
   "pygments_lexer": "ipython3",
   "version": 3
  },
  "orig_nbformat": 2,
  "kernelspec": {
   "name": "python_defaultSpec_1597400301346",
   "display_name": "Python 3.7.7 64-bit ('venv': venv)"
  }
 },
 "nbformat": 4,
 "nbformat_minor": 2,
 "cells": [
  {
   "cell_type": "code",
   "execution_count": 113,
   "metadata": {
    "tags": []
   },
   "outputs": [
    {
     "output_type": "execute_result",
     "data": {
      "text/plain": "[4, 3, 2, 1]"
     },
     "metadata": {},
     "execution_count": 113
    }
   ],
   "source": [
    "# Списки \n",
    "a = [1,2,3,4] # создаем список\n",
    "b = list([1,2,3,4])# cоздаем список\n",
    "с = list()#пустой список\n",
    "d =  []#пустой список\n",
    "#  индексы\n",
    "a[0]# получить по индексу элемент списка\n",
    "# cрезы(slice)\n",
    "a[:3]# получить с нулевого до третьего индекса\n",
    "a[::-1]#  перевернуть список"
   ]
  },
  {
   "cell_type": "code",
   "execution_count": 114,
   "metadata": {},
   "outputs": [],
   "source": [
    "# Числа (float, int)\n",
    "a = 0# число int\n",
    "b = 1.3 # число float\n",
    "a = a + 1 # добавили к нулю 1\n",
    "a+=1 # тоже самое просто по красивее "
   ]
  },
  {
   "cell_type": "code",
   "execution_count": 5,
   "metadata": {
    "tags": []
   },
   "outputs": [
    {
     "output_type": "stream",
     "name": "stdout",
     "text": "You are a child\nThe age must be a positive integer!\n"
    }
   ],
   "source": [
    "def analyzeAge( age ):\n",
    "   if age < 21:\n",
    "       print(\"You are a child\")\n",
    "   if age >= 21: #Greater than or equal to\n",
    "       print(\"You are an adult\")\n",
    "   else:   #Handle all cases where 'age' is negative \n",
    "       print(\"The age must be a positive integer!\")\n",
    "\n",
    "def analyzeAge( age ):\n",
    "   if age < 21:\n",
    "       print \"You are a child\"\n",
    "   elif age > 21:\n",
    "       print \"You are an adult\"\n",
    "   else:   #Handle all cases where 'age' is negative \n",
    "       print \"The age must be a positive integer!\"\n",
    "\n",
    "analyzeAge( 18 )\n",
    "\n",
    "analyzeAge(18)"
   ]
  },
  {
   "cell_type": "code",
   "execution_count": null,
   "metadata": {},
   "outputs": [],
   "source": []
  }
 ]
}