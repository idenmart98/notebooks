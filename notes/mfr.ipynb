{
 "metadata": {
  "language_info": {
   "codemirror_mode": {
    "name": "ipython",
    "version": 3
   },
   "file_extension": ".py",
   "mimetype": "text/x-python",
   "name": "python",
   "nbconvert_exporter": "python",
   "pygments_lexer": "ipython3",
   "version": "3.7.7-final"
  },
  "orig_nbformat": 2,
  "kernelspec": {
   "name": "python_defaultSpec_1598365101042",
   "display_name": "Python 3.7.7 64-bit ('venv': venv)"
  }
 },
 "nbformat": 4,
 "nbformat_minor": 2,
 "cells": [
  {
   "cell_type": "code",
   "execution_count": 2,
   "metadata": {
    "tags": []
   },
   "outputs": [
    {
     "output_type": "stream",
     "name": "stdout",
     "text": "[1, 4, 9, 16, 25, 36, 49, 64, 81]\n"
    }
   ],
   "source": [
    "#map \n",
    "nums = [1,2,3,4,5,6,7,8,9]\n",
    "def sqrt(n):\n",
    "    return n**2\n",
    "\n",
    "print(list(map(sqrt,nums)))\n"
   ]
  },
  {
   "cell_type": "code",
   "execution_count": 7,
   "metadata": {
    "tags": []
   },
   "outputs": [
    {
     "output_type": "stream",
     "name": "stdout",
     "text": "[2, 4, 6, 8]\n"
    }
   ],
   "source": [
    "#filter \n",
    "nums = [1,2,3,4,5,6,7,8,9]\n",
    "def filtator(n):\n",
    "    if n%2==0:\n",
    "        return True\n",
    "    return False\n",
    "print(list(filter(filtator,nums)))"
   ]
  },
  {
   "cell_type": "code",
   "execution_count": 9,
   "metadata": {
    "tags": []
   },
   "outputs": [
    {
     "output_type": "stream",
     "name": "stdout",
     "text": "{5523: {'id': 5523, 'name': 'Barsik'}, 699: {'id': 699, 'name': 'Luparik'}}\n{'id': 699, 'name': 'Luparik'}\n"
    }
   ],
   "source": [
    "#reduce\n",
    "from functools import reduce\n",
    "from functools import reduce\n",
    "\n",
    "CATS = [\n",
    "    {\n",
    "        \"id\": 5523,\n",
    "        \"name\": \"Barsik\"\n",
    "    },\n",
    "    {\n",
    "        \"id\": 699,\n",
    "        \"name\": \"Luparik\"\n",
    "    }\n",
    "]\n",
    "\n",
    "def cat_to_dict(acc, cat):\n",
    "    acc[cat[\"id\"]] = cat\n",
    "    return acc\n",
    "\n",
    "cats_index = reduce(cat_to_dict, CATS, {})\n",
    "print(cats_index) \n",
    "print(cats_index[699])"
   ]
  },
  {
   "cell_type": "code",
   "execution_count": 10,
   "metadata": {
    "tags": []
   },
   "outputs": [
    {
     "output_type": "stream",
     "name": "stdout",
     "text": "[{'id': 2340, 'title': 'Forrest Gump', 'release': 1994}, {'id': 99, 'title': 'The Matrix', 'release': 1999}, {'id': 533, 'title': 'Coco', 'release': 2017}]\n[{'id': 533, 'title': 'Coco', 'release': 2017}, {'id': 99, 'title': 'The Matrix', 'release': 1999}, {'id': 2340, 'title': 'Forrest Gump', 'release': 1994}]\n"
    }
   ],
   "source": [
    "#sorted \n",
    "MOVIES = [\n",
    "    {\n",
    "        \"id\": 2340,\n",
    "        \"title\": \"Forrest Gump\",\n",
    "        \"release\": 1994\n",
    "    },\n",
    "    {\n",
    "        \"id\": 533,\n",
    "        \"title\": \"Coco\",\n",
    "        \"release\": 2017\n",
    "    },\n",
    "    {\n",
    "        \"id\": 99,\n",
    "        \"title\": \"The Matrix\",\n",
    "        \"release\": 1999\n",
    "    }\n",
    "]\n",
    "\n",
    "def key_extractor(m1):\n",
    "    return m1[\"release\"]\n",
    "\n",
    "sorted_movies = sorted(MOVIES, key=key_extractor)\n",
    "print(sorted_movies)\n",
    "r_sorted_movies = sorted(MOVIES, key=key_extractor, reverse=True)\n",
    "print(r_sorted_movies)"
   ]
  },
  {
   "cell_type": "code",
   "execution_count": 12,
   "metadata": {
    "tags": []
   },
   "outputs": [
    {
     "output_type": "stream",
     "name": "stdout",
     "text": "[1, 4, 9, 16, 25, 36, 49, 64, 81]\n"
    }
   ],
   "source": [
    "nums = [1,2,3,4,5,6,7,8,9]\n",
    "def sqrt(n):\n",
    "    return n**2\n",
    "\n",
    "\n",
    "def map1(f ,iterable):\n",
    "    a = []\n",
    "    for i in iterable:\n",
    "        a.append(f(i))\n",
    "    return a\n",
    "\n",
    "\n",
    "print(map1(sqrt,nums))"
   ]
  },
  {
   "cell_type": "code",
   "execution_count": 27,
   "metadata": {
    "tags": []
   },
   "outputs": [],
   "source": [
    "import random\n",
    "a = [1,2,3,4,5]\n",
    "def game():\n",
    "    b = 0\n",
    "    while True:\n",
    "        b=b+1\n",
    "        choose = int(input('Число:'))\n",
    "        if random.choice(a) == choose:\n",
    "            print(\"you win\")\n",
    "        if b ==3:\n",
    "            break \n",
    "        else:\n",
    "            print(\"you lose\")\n",
    "    \n",
    "\n",
    "        \n"
   ]
  },
  {
   "cell_type": "code",
   "execution_count": null,
   "metadata": {},
   "outputs": [],
   "source": []
  }
 ]
}