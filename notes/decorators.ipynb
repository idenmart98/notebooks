{
 "metadata": {
  "language_info": {
   "codemirror_mode": {
    "name": "ipython",
    "version": 3
   },
   "file_extension": ".py",
   "mimetype": "text/x-python",
   "name": "python",
   "nbconvert_exporter": "python",
   "pygments_lexer": "ipython3",
   "version": 3
  },
  "orig_nbformat": 2,
  "kernelspec": {
   "name": "python_defaultSpec_1597476732620",
   "display_name": "Python 3.7.7 64-bit ('venv': venv)"
  }
 },
 "nbformat": 4,
 "nbformat_minor": 2,
 "cells": [
  {
   "cell_type": "code",
   "execution_count": 26,
   "metadata": {
    "tags": []
   },
   "outputs": [
    {
     "output_type": "stream",
     "name": "stdout",
     "text": "Я начальная строка\nПривет\nЯ конечная строка\n"
    }
   ],
   "source": [
    "def my_decorator(func):\n",
    "    def wrapper():\n",
    "        print(\"Danger: функция устрела\")\n",
    "        func()\n",
    "    return wrapper\n",
    "\n",
    "\n",
    "def say_hello():\n",
    "    print(\"Привет\")\n",
    "# @my_decorator\n",
    "# def say_hello2():\n",
    "#     print(\"Приветик\")\n",
    "\n",
    "say_hello3 = my_decorator(say_hello)\n",
    "# say_hello()\n",
    "\n",
    "say_hello3()\n",
    "\n",
    "\n",
    "\n"
   ]
  },
  {
   "cell_type": "code",
   "execution_count": null,
   "metadata": {},
   "outputs": [],
   "source": []
  }
 ]
}